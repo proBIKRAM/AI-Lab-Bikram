{
  "nbformat": 4,
  "nbformat_minor": 0,
  "metadata": {
    "colab": {
      "provenance": [],
      "authorship_tag": "ABX9TyOxLC0o4pLQ3owXSeCAIsnb",
      "include_colab_link": true
    },
    "kernelspec": {
      "name": "python3",
      "display_name": "Python 3"
    },
    "language_info": {
      "name": "python"
    }
  },
  "cells": [
    {
      "cell_type": "markdown",
      "metadata": {
        "id": "view-in-github",
        "colab_type": "text"
      },
      "source": [
        "<a href=\"https://colab.research.google.com/github/proBIKRAM/AI-Lab-Bikram/blob/main/8puzzle.ipynb\" target=\"_parent\"><img src=\"https://colab.research.google.com/assets/colab-badge.svg\" alt=\"Open In Colab\"/></a>"
      ]
    },
    {
      "cell_type": "code",
      "execution_count": 3,
      "metadata": {
        "colab": {
          "base_uri": "https://localhost:8080/"
        },
        "id": "P2Ua3h9XoYYu",
        "outputId": "8d0b7335-0224-4c4e-bda5-84a19493a3e9"
      },
      "outputs": [
        {
          "output_type": "stream",
          "name": "stdout",
          "text": [
            "Misplaced Tiles Heuristic: 6\n",
            "Manhattan Distance Heuristic: 9\n"
          ]
        }
      ],
      "source": [
        "# 8-puzzle heuristics: Misplaced Tiles and Manhattan Distance\n",
        "\n",
        "# Define goal state\n",
        "goal_state = [\n",
        "    [1, 2, 3],\n",
        "    [4, 5, 6],\n",
        "    [7, 8, 0]\n",
        "]\n",
        "\n",
        "# Sample input state\n",
        "state = [\n",
        "    [2, 8, 3],\n",
        "    [1, 6, 4],\n",
        "    [7, 0, 5]\n",
        "]\n",
        "\n",
        "# Heuristic 1: Misplaced Tiles\n",
        "def misplaced_tiles(state, goal):\n",
        "    count = 0\n",
        "    for i in range(3):\n",
        "        for j in range(3):\n",
        "            if state[i][j] != 0 and state[i][j] != goal[i][j]:\n",
        "                count += 1\n",
        "    return count\n",
        "\n",
        "# Heuristic 2: Manhattan Distance\n",
        "def manhattan_distance(state, goal):\n",
        "    distance = 0\n",
        "    for i in range(3):\n",
        "        for j in range(3):\n",
        "            val = state[i][j]\n",
        "            if val != 0:\n",
        "                # Find val's goal coordinates\n",
        "                for x in range(3):\n",
        "                    for y in range(3):\n",
        "                        if goal[x][y] == val:\n",
        "                            distance += abs(i - x) + abs(j - y)\n",
        "                            break\n",
        "    return distance\n",
        "\n",
        "# Output results\n",
        "print(\"Misplaced Tiles Heuristic:\", misplaced_tiles(state, goal_state))\n",
        "print(\"Manhattan Distance Heuristic:\", manhattan_distance(state, goal_state))\n"
      ]
    }
  ]
}