{
  "nbformat": 4,
  "nbformat_minor": 0,
  "metadata": {
    "colab": {
      "provenance": [],
      "authorship_tag": "ABX9TyOrsW4Rb0YbpyL+kqyNfc+J",
      "include_colab_link": true
    },
    "kernelspec": {
      "name": "python3",
      "display_name": "Python 3"
    },
    "language_info": {
      "name": "python"
    }
  },
  "cells": [
    {
      "cell_type": "markdown",
      "metadata": {
        "id": "view-in-github",
        "colab_type": "text"
      },
      "source": [
        "<a href=\"https://colab.research.google.com/github/proBIKRAM/AI-Lab-Bikram/blob/main/reflex_agent.ipynb\" target=\"_parent\"><img src=\"https://colab.research.google.com/assets/colab-badge.svg\" alt=\"Open In Colab\"/></a>"
      ]
    },
    {
      "cell_type": "markdown",
      "source": [
        "**Reflex Agent-Vacuum Cleaner**"
      ],
      "metadata": {
        "id": "8uTJW_HtUBpg"
      }
    },
    {
      "cell_type": "markdown",
      "source": [
        "## All Imports"
      ],
      "metadata": {
        "id": "bCqdA_qhT4lX"
      }
    },
    {
      "cell_type": "code",
      "execution_count": 67,
      "metadata": {
        "id": "JXQbbgFfHHPe"
      },
      "outputs": [],
      "source": [
        "import matplotlib.pyplot as plt\n",
        "import numpy as np\n",
        "import time\n",
        "import random\n",
        "from IPython.display import clear_output"
      ]
    },
    {
      "cell_type": "markdown",
      "source": [
        "## grid size"
      ],
      "metadata": {
        "id": "P1VCyZhnFCu9"
      }
    },
    {
      "cell_type": "code",
      "source": [
        "ROWS, COLS = 8, 8"
      ],
      "metadata": {
        "id": "dCFVNW2UFKnL"
      },
      "execution_count": 68,
      "outputs": []
    },
    {
      "cell_type": "markdown",
      "source": [
        "## random grid with mess"
      ],
      "metadata": {
        "id": "6Wt22dgdcYN5"
      }
    },
    {
      "cell_type": "code",
      "source": [
        "grid = np.random.choice([0, 1], size=(ROWS, COLS), p=[0.7, 0.3])\n",
        "was_dirty = grid.copy()"
      ],
      "metadata": {
        "id": "5j6dHKN9ceVP"
      },
      "execution_count": 69,
      "outputs": []
    },
    {
      "cell_type": "markdown",
      "source": [
        "## random agent position"
      ],
      "metadata": {
        "id": "PA_fOiq3cktA"
      }
    },
    {
      "cell_type": "code",
      "source": [
        "agent_row = random.randint(0, ROWS - 1)\n",
        "agent_col = random.randint(0, COLS - 1)"
      ],
      "metadata": {
        "id": "yKEM5Nvsco1w"
      },
      "execution_count": 70,
      "outputs": []
    },
    {
      "cell_type": "markdown",
      "source": [
        "## visualization function\n"
      ],
      "metadata": {
        "id": "3gpxP960RSFi"
      }
    },
    {
      "cell_type": "code",
      "source": [
        "def draw_grid(grid, agent_pos, scan_pos=None):\n",
        "    fig, ax = plt.subplots(figsize=(6, 6))\n",
        "    ax.set_xticks(np.arange(-0.5, COLS, 1))\n",
        "    ax.set_yticks(np.arange(-0.5, ROWS, 1))\n",
        "    ax.set_xticklabels([])\n",
        "    ax.set_yticklabels([])\n",
        "    ax.grid(color='white')\n",
        "\n",
        "    for r in range(ROWS):\n",
        "        for c in range(COLS):\n",
        "            val = grid[r][c]\n",
        "            color = 'black'\n",
        "            text = str(val)\n",
        "\n",
        "            if (r, c) == agent_pos:\n",
        "                color = 'lightgray'\n",
        "            elif scan_pos and (r, c) == scan_pos:\n",
        "                color = 'pink'\n",
        "            elif val == 1:\n",
        "                color = 'red'\n",
        "            elif was_dirty[r][c] == 1 and val == 0:\n",
        "                color = 'green'\n",
        "\n",
        "            ax.add_patch(plt.Rectangle((c-0.5, r-0.5), 1, 1, color=color))\n",
        "            ax.text(c, r, text, va='center', ha='center', color='white', fontsize=16)\n",
        "\n",
        "    ax.invert_yaxis()\n",
        "    plt.show()"
      ],
      "metadata": {
        "id": "Oi1A5fZXRWjw"
      },
      "execution_count": 71,
      "outputs": []
    },
    {
      "cell_type": "markdown",
      "source": [
        "## movement simulation"
      ],
      "metadata": {
        "id": "ODaueaSPc9rC"
      }
    },
    {
      "cell_type": "code",
      "source": [
        "def run_simulation():\n",
        "    global agent_row, agent_col\n",
        "    r, c = agent_row, agent_col\n",
        "    going_right = True\n",
        "\n",
        "    while r < ROWS:\n",
        "        col_range = range(c, COLS, 2) if going_right else range(c, -1, -2)\n",
        "        for c in col_range:\n",
        "            move_and_clean(r, c)\n",
        "        c = COLS - 1 if going_right else 0\n",
        "        going_right = not going_right\n",
        "        r += 2\n",
        "\n",
        "    # Reverse path to top\n",
        "    r -= 2\n",
        "    going_right = not going_right\n",
        "    while r >= 0:\n",
        "        col_range = range(0, COLS, 2) if going_right else range(COLS - 1, -1, -2)\n",
        "        for c in col_range:\n",
        "            move_and_clean(r, c)\n",
        "        going_right = not going_right\n",
        "        r -= 2\n"
      ],
      "metadata": {
        "id": "EW1FN77fdAOm"
      },
      "execution_count": 72,
      "outputs": []
    },
    {
      "cell_type": "markdown",
      "source": [
        "## Cleaning logic\n"
      ],
      "metadata": {
        "id": "syrDir5PRdYv"
      }
    },
    {
      "cell_type": "code",
      "source": [
        "def move_and_clean(r, c):\n",
        "    global agent_row, agent_col, grid\n",
        "    agent_row, agent_col = r, c\n",
        "\n",
        "    clear_output(wait=True)\n",
        "    draw_grid(grid, (agent_row, agent_col))\n",
        "    time.sleep(0.5)\n",
        "\n",
        "    if grid[r][c] == 1:\n",
        "        grid[r][c] = 0\n",
        "\n",
        "    for dr in [-1, 0, 1]:\n",
        "        for dc in [-1, 0, 1]:\n",
        "            nr, nc = r + dr, c + dc\n",
        "            if 0 <= nr < ROWS and 0 <= nc < COLS and (nr, nc) != (r, c):\n",
        "                clear_output(wait=True)\n",
        "                draw_grid(grid, (agent_row, agent_col), scan_pos=(nr, nc))\n",
        "                time.sleep(0.3)\n",
        "                if grid[nr][nc] == 1:\n",
        "                    grid[nr][nc] = 0\n",
        "\n",
        "    clear_output(wait=True)\n",
        "    draw_grid(grid, (agent_row, agent_col))"
      ],
      "metadata": {
        "id": "siHHqgXwRlYm"
      },
      "execution_count": 74,
      "outputs": []
    },
    {
      "cell_type": "markdown",
      "source": [
        "## Run Simulation"
      ],
      "metadata": {
        "id": "kqMYI7uDa5vL"
      }
    },
    {
      "cell_type": "code",
      "source": [
        "\n",
        "run_simulation()"
      ],
      "metadata": {
        "colab": {
          "base_uri": "https://localhost:8080/",
          "height": 503
        },
        "id": "Ln44RvAcax-v",
        "outputId": "eded30ab-2458-4b60-ac95-331caf4deffe"
      },
      "execution_count": 75,
      "outputs": [
        {
          "output_type": "display_data",
          "data": {
            "text/plain": [
              "<Figure size 600x600 with 1 Axes>"
            ],
            "image/png": "[encoded data removed]"
          },
          "metadata": {}
        }
      ]
    }
  ]
}