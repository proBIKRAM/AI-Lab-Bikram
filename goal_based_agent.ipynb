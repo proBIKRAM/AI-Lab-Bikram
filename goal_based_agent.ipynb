{
  "nbformat": 4,
  "nbformat_minor": 0,
  "metadata": {
    "colab": {
      "provenance": [],
      "authorship_tag": "ABX9TyPRzsyJG21poyBhuCuBxgFy",
      "include_colab_link": true
    },
    "kernelspec": {
      "name": "python3",
      "display_name": "Python 3"
    },
    "language_info": {
      "name": "python"
    }
  },
  "cells": [
    {
      "cell_type": "markdown",
      "metadata": {
        "id": "view-in-github",
        "colab_type": "text"
      },
      "source": [
        "<a href=\"https://colab.research.google.com/github/proBIKRAM/AI-Lab-Bikram/blob/main/goal_based_agent.ipynb\" target=\"_parent\"><img src=\"https://colab.research.google.com/assets/colab-badge.svg\" alt=\"Open In Colab\"/></a>"
      ]
    },
    {
      "cell_type": "markdown",
      "source": [
        "**Goal Based Agent-Vacuum Cleaner**"
      ],
      "metadata": {
        "id": "8uTJW_HtUBpg"
      }
    },
    {
      "cell_type": "markdown",
      "source": [
        "## All Imports"
      ],
      "metadata": {
        "id": "bCqdA_qhT4lX"
      }
    },
    {
      "cell_type": "code",
      "execution_count": null,
      "metadata": {
        "id": "JXQbbgFfHHPe"
      },
      "outputs": [],
      "source": [
        "import numpy as np\n",
        "import matplotlib.pyplot as plt\n",
        "from IPython.display import clear_output\n",
        "import time\n",
        "import heapq"
      ]
    },
    {
      "cell_type": "markdown",
      "source": [
        "## Grid setup"
      ],
      "metadata": {
        "id": "P1VCyZhnFCu9"
      }
    },
    {
      "cell_type": "code",
      "source": [
        "ROWS, COLS = 8, 8\n",
        "grid = np.random.choice([0, 1], size=(ROWS, COLS), p=[0.7, 0.3])\n",
        "was_dirty = grid.copy()\n",
        "start_row, start_col = 2, 2\n",
        "agent_pos = [start_row, start_col]"
      ],
      "metadata": {
        "id": "dCFVNW2UFKnL"
      },
      "execution_count": null,
      "outputs": []
    },
    {
      "cell_type": "markdown",
      "source": [
        "## Directions\n"
      ],
      "metadata": {
        "id": "3gpxP960RSFi"
      }
    },
    {
      "cell_type": "code",
      "source": [
        "DIRS_4 = [(-1,0),(1,0),(0,-1),(0,1)]\n",
        "DIRS_8 = [(-1,-1),(-1,0),(-1,1),\n",
        "          ( 0,-1),       ( 0,1),\n",
        "          ( 1,-1),( 1,0),( 1,1)]"
      ],
      "metadata": {
        "id": "Oi1A5fZXRWjw"
      },
      "execution_count": null,
      "outputs": []
    },
    {
      "cell_type": "markdown",
      "source": [
        "## Huristics"
      ],
      "metadata": {
        "id": "syrDir5PRdYv"
      }
    },
    {
      "cell_type": "code",
      "source": [
        "def heuristic(a, b):\n",
        "    return abs(a[0] - b[0]) + abs(a[1] - b[1])"
      ],
      "metadata": {
        "id": "siHHqgXwRlYm"
      },
      "execution_count": null,
      "outputs": []
    },
    {
      "cell_type": "markdown",
      "source": [
        "## Draw grid"
      ],
      "metadata": {
        "id": "ImG3LxZAJ-26"
      }
    },
    {
      "cell_type": "code",
      "source": [
        "def draw_grid(agent_pos):\n",
        "    clear_output(wait=True)\n",
        "    plt.figure(figsize=(6, 6))\n",
        "    ax = plt.gca()\n",
        "    for r in range(ROWS):\n",
        "        for c in range(COLS):\n",
        "            if (r, c) == tuple(agent_pos):\n",
        "                color = 'blue'\n",
        "            elif grid[r][c] == 1:\n",
        "                color = 'gray'\n",
        "            elif was_dirty[r][c] == 1:\n",
        "                color = 'green'\n",
        "            else:\n",
        "                color = 'white'\n",
        "            ax.add_patch(plt.Rectangle((c, ROWS - r - 1), 1, 1, facecolor=color, edgecolor='black'))\n",
        "            plt.text(c + 0.35, ROWS - r - 0.6, str(grid[r][c]), fontsize=12)\n",
        "\n",
        "    plt.xlim(0, COLS)\n",
        "    plt.ylim(0, ROWS)\n",
        "    ax.set_aspect('equal')\n",
        "    plt.axis('off')\n",
        "    plt.show()"
      ],
      "metadata": {
        "id": "7_ayd_GyKFzQ"
      },
      "execution_count": null,
      "outputs": []
    },
    {
      "cell_type": "markdown",
      "source": [
        "## A* pathfinding"
      ],
      "metadata": {
        "id": "hNumEyQ_F1rd"
      }
    },
    {
      "cell_type": "code",
      "source": [
        "def a_star(start, goal):\n",
        "    open_set = [(heuristic(start, goal), 0, start)]\n",
        "    came_from = {}\n",
        "    g_score = {start: 0}\n",
        "\n",
        "    while open_set:\n",
        "        _, cost, current = heapq.heappop(open_set)\n",
        "        if current == goal:\n",
        "            path = []\n",
        "            while current in came_from:\n",
        "                path.append(current)\n",
        "                current = came_from[current]\n",
        "            return path[::-1]\n",
        "\n",
        "        for dr, dc in DIRS_4:\n",
        "            nr, nc = current[0]+dr, current[1]+dc\n",
        "            if 0 <= nr < ROWS and 0 <= nc < COLS:\n",
        "                neighbor = (nr, nc)\n",
        "                tentative_g = g_score[current] + 1\n",
        "                if tentative_g < g_score.get(neighbor, float('inf')):\n",
        "                    came_from[neighbor] = current\n",
        "                    g_score[neighbor] = tentative_g\n",
        "                    heapq.heappush(open_set, (tentative_g + heuristic(neighbor, goal), tentative_g, neighbor))\n",
        "\n",
        "    return []"
      ],
      "metadata": {
        "id": "sb7w6HQpF_8x"
      },
      "execution_count": null,
      "outputs": []
    },
    {
      "cell_type": "markdown",
      "source": [
        "# Find nearest dirty cell\n"
      ],
      "metadata": {
        "id": "WkG4_AqHGRFd"
      }
    },
    {
      "cell_type": "code",
      "source": [
        "def find_nearest_dirty():\n",
        "    min_dist = float('inf')\n",
        "    target = None\n",
        "    for r in range(ROWS):\n",
        "        for c in range(COLS):\n",
        "            if grid[r][c] == 1:\n",
        "                d = heuristic(agent_pos, (r, c))\n",
        "                if d < min_dist:\n",
        "                    min_dist = d\n",
        "                    target = (r, c)\n",
        "    return target"
      ],
      "metadata": {
        "id": "eM2fjMSRGVGt"
      },
      "execution_count": null,
      "outputs": []
    },
    {
      "cell_type": "markdown",
      "source": [
        "## Visualization"
      ],
      "metadata": {
        "id": "mAdpHbzaGciu"
      }
    },
    {
      "cell_type": "code",
      "source": [
        "while np.any(grid == 1):\n",
        "    r, c = agent_pos\n",
        "    draw_grid(agent_pos)\n",
        "    time.sleep(0.4)\n",
        "\n",
        "    if grid[r][c] == 1:\n",
        "        grid[r][c] = 0\n",
        "\n",
        "    moved = False\n",
        "    for dr, dc in DIRS_8:\n",
        "        nr, nc = r + dr, c + dc\n",
        "        if 0 <= nr < ROWS and 0 <= nc < COLS and grid[nr][nc] == 1:\n",
        "            agent_pos = [nr, nc]\n",
        "            moved = True\n",
        "            break\n",
        "\n",
        "    if not moved:\n",
        "        goal = find_nearest_dirty()\n",
        "        if goal:\n",
        "            path = a_star(tuple(agent_pos), goal)\n",
        "            if path:\n",
        "                agent_pos = list(path[0])\n",
        "\n",
        "draw_grid(agent_pos)\n",
        "plt.title(\"Cleaning Complete!\")"
      ],
      "metadata": {
        "colab": {
          "base_uri": "https://localhost:8080/",
          "height": 951
        },
        "id": "lQxmFfcIH7O5",
        "outputId": "283a3322-bf67-4239-96f1-9ec45fd2c8a4"
      },
      "execution_count": 49,
      "outputs": [
        {
          "output_type": "display_data",
          "data": {
            "text/plain": [
              "<Figure size 600x600 with 1 Axes>"
            ],
            "image/png": "[encoded data removed]"
          },
          "metadata": {}
        },
        {
          "output_type": "execute_result",
          "data": {
            "text/plain": [
              "Text(0.5, 1.0, 'Cleaning Complete!')"
            ]
          },
          "metadata": {},
          "execution_count": 49
        },
        {
          "output_type": "display_data",
          "data": {
            "text/plain": [
              "<Figure size 640x480 with 1 Axes>"
            ],
            "image/png": "[encoded data removed]"
          },
          "metadata": {}
        }
      ]
    },
    {
      "cell_type": "markdown",
      "source": [
        "# RESET the grid to new mess before re-running\n",
        "\n"
      ],
      "metadata": {
        "id": "95l7ZqaYTmMk"
      }
    },
    {
      "cell_type": "code",
      "source": [
        "grid = np.random.choice([0, 1], size=(ROWS, COLS), p=[0.7, 0.3])\n",
        "was_dirty = grid.copy()\n",
        "agent_pos = [start_row, start_col]"
      ],
      "metadata": {
        "id": "zRMpf-lXTt6s"
      },
      "execution_count": 48,
      "outputs": []
    }
  ]
}