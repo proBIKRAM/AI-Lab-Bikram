{
  "nbformat": 4,
  "nbformat_minor": 0,
  "metadata": {
    "colab": {
      "provenance": [],
      "authorship_tag": "ABX9TyOzOf+Qzhp1StLaP+TjUvSa",
      "include_colab_link": true
    },
    "kernelspec": {
      "name": "python3",
      "display_name": "Python 3"
    },
    "language_info": {
      "name": "python"
    }
  },
  "cells": [
    {
      "cell_type": "markdown",
      "metadata": {
        "id": "view-in-github",
        "colab_type": "text"
      },
      "source": [
        "<a href=\"https://colab.research.google.com/github/proBIKRAM/AI-Lab-Bikram/blob/main/blockArrangement.ipynb\" target=\"_parent\"><img src=\"https://colab.research.google.com/assets/colab-badge.svg\" alt=\"Open In Colab\"/></a>"
      ]
    },
    {
      "cell_type": "code",
      "source": [
        "# Block World Heuristics: Local and Global\n",
        "\n",
        "# Local Heuristic: Compare each block's immediate below neighbor\n",
        "def local_heuristic(state, goal):\n",
        "    h = 0\n",
        "    for i in range(len(state)):\n",
        "        block = state[i]\n",
        "        below_state = state[i + 1] if i + 1 < len(state) else \"Table\"\n",
        "        goal_index = goal.index(block)\n",
        "        below_goal = goal[goal_index + 1] if goal_index + 1 < len(goal) else \"Table\"\n",
        "\n",
        "        if below_state == below_goal:\n",
        "            h += 1\n",
        "        else:\n",
        "            h -= 1\n",
        "    return h\n",
        "\n",
        "# Global Heuristic: Compare all blocks below the current one\n",
        "def global_heuristic(state, goal):\n",
        "    h = 0\n",
        "    for i in range(len(state)):\n",
        "        block = state[i]\n",
        "        below_state = state[i + 1:]\n",
        "        goal_index = goal.index(block)\n",
        "        below_goal = goal[goal_index + 1:]\n",
        "\n",
        "        k = len(below_state)\n",
        "        if below_state == below_goal:\n",
        "            h += k\n",
        "        else:\n",
        "            h -= k\n",
        "    return h\n",
        "\n",
        "# Example usage\n",
        "start_state = ['A', 'D', 'C', 'B']    # Given Start\n",
        "goal_state  = ['D', 'C', 'B', 'A']    # Given Goal\n",
        "\n",
        "# Calculate heuristic values\n",
        "print(\"Local Heuristic (Start):\", local_heuristic(start_state, goal_state))\n",
        "print(\"Global Heuristic (Start):\", global_heuristic(start_state, goal_state))\n",
        "\n",
        "print(\"Local Heuristic (Goal):\", local_heuristic(goal_state, goal_state))\n",
        "print(\"Global Heuristic (Goal):\", global_heuristic(goal_state, goal_state))\n"
      ],
      "metadata": {
        "colab": {
          "base_uri": "https://localhost:8080/"
        },
        "id": "ESR0Crz3sIg6",
        "outputId": "a6039a5b-2334-49df-a3c7-f2c20e586ea7"
      },
      "execution_count": 4,
      "outputs": [
        {
          "output_type": "stream",
          "name": "stdout",
          "text": [
            "Local Heuristic (Start): 0\n",
            "Global Heuristic (Start): -6\n",
            "Local Heuristic (Goal): 4\n",
            "Global Heuristic (Goal): 6\n"
          ]
        }
      ]
    }
  ]
}