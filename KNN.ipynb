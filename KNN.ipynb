{
  "nbformat": 4,
  "nbformat_minor": 0,
  "metadata": {
    "colab": {
      "provenance": [],
      "authorship_tag": "ABX9TyMixUZZ/aeaWLlkfSOBC3zu",
      "include_colab_link": true
    },
    "kernelspec": {
      "name": "python3",
      "display_name": "Python 3"
    },
    "language_info": {
      "name": "python"
    }
  },
  "cells": [
    {
      "cell_type": "markdown",
      "metadata": {
        "id": "view-in-github",
        "colab_type": "text"
      },
      "source": [
        "<a href=\"https://colab.research.google.com/github/proBIKRAM/AI-Lab-Bikram/blob/main/KNN.ipynb\" target=\"_parent\"><img src=\"https://colab.research.google.com/assets/colab-badge.svg\" alt=\"Open In Colab\"/></a>"
      ]
    },
    {
      "cell_type": "code",
      "execution_count": 1,
      "metadata": {
        "colab": {
          "base_uri": "https://localhost:8080/"
        },
        "id": "P2Ua3h9XoYYu",
        "outputId": "e55d80f0-ca2a-4698-84f5-d0da19a6904c"
      },
      "outputs": [
        {
          "output_type": "stream",
          "name": "stdout",
          "text": [
            "Predicted Label: Athlete\n"
          ]
        }
      ],
      "source": [
        "# Manual kNN Classifier from Scratch\n",
        "\n",
        "# Step 1: Data preparation\n",
        "data = [\n",
        "    [170, 65, 20, 'Athlete'],\n",
        "    [160, 70, 25, 'Non-athlete'],\n",
        "    [180, 75, 30, 'Athlete'],\n",
        "    [155, 60, 22, 'Non-athlete'],\n",
        "    [165, 68, 28, 'Non-athlete'],\n",
        "    [175, 80, 26, 'Athlete'],\n",
        "]\n",
        "\n",
        "features = [row[:-1] for row in data]  # Extract height, weight, age\n",
        "labels = [row[-1] for row in data]     # Extract label (Athlete / Non-athlete)\n",
        "\n",
        "# Step 2: Define Euclidean distance\n",
        "def euclidean_distance(point1, point2):\n",
        "    total = 0\n",
        "    for i in range(len(point1)):\n",
        "        diff = point1[i] - point2[i]\n",
        "        total += diff ** 2\n",
        "    return total ** 0.5\n",
        "\n",
        "# Step 3: kNN function\n",
        "def knn_predict(features, labels, query_point, k):\n",
        "    distances = []\n",
        "    for i in range(len(features)):\n",
        "        dist = euclidean_distance(features[i], query_point)\n",
        "        distances.append((dist, labels[i]))\n",
        "    distances.sort()  # sort by distance\n",
        "\n",
        "    # Step 4: Count top-k votes\n",
        "    votes = {}\n",
        "    for i in range(k):\n",
        "        label = distances[i][1]\n",
        "        votes[label] = votes.get(label, 0) + 1\n",
        "\n",
        "    # Step 5: Majority vote\n",
        "    max_vote = -1\n",
        "    predicted_label = None\n",
        "    for label in votes:\n",
        "        if votes[label] > max_vote:\n",
        "            max_vote = votes[label]\n",
        "            predicted_label = label\n",
        "\n",
        "    return predicted_label\n",
        "\n",
        "# Step 6: Test the model\n",
        "query = [172, 72, 24]\n",
        "k = 3\n",
        "prediction = knn_predict(features, labels, query, k)\n",
        "print(\"Predicted Label:\", prediction)\n"
      ]
    }
  ]
}