{
  "nbformat": 4,
  "nbformat_minor": 0,
  "metadata": {
    "colab": {
      "provenance": [],
      "authorship_tag": "ABX9TyMa2AZ403uv58PswuF3J32h",
      "include_colab_link": true
    },
    "kernelspec": {
      "name": "python3",
      "display_name": "Python 3"
    },
    "language_info": {
      "name": "python"
    }
  },
  "cells": [
    {
      "cell_type": "markdown",
      "metadata": {
        "id": "view-in-github",
        "colab_type": "text"
      },
      "source": [
        "<a href=\"https://colab.research.google.com/github/proBIKRAM/AI-Lab-Bikram/blob/main/ANN.ipynb\" target=\"_parent\"><img src=\"https://colab.research.google.com/assets/colab-badge.svg\" alt=\"Open In Colab\"/></a>"
      ]
    },
    {
      "cell_type": "code",
      "execution_count": null,
      "metadata": {
        "id": "P2Ua3h9XoYYu"
      },
      "outputs": [],
      "source": [
        "# ANN to classify Athlete vs Non-athlete (based on height, weight, age)\n",
        "\n",
        "import numpy as np\n",
        "import tensorflow as tf\n",
        "from tensorflow.keras.models import Sequential\n",
        "from tensorflow.keras.layers import Dense\n",
        "from sklearn.preprocessing import LabelEncoder, StandardScaler\n",
        "\n",
        "# Step 1: Prepare data\n",
        "data = [\n",
        "    [170, 65, 20, 'Athlete'],\n",
        "    [160, 70, 25, 'Non-athlete'],\n",
        "    [180, 75, 30, 'Athlete'],\n",
        "    [155, 60, 22, 'Non-athlete'],\n",
        "    [165, 68, 28, 'Non-athlete'],\n",
        "    [175, 80, 26, 'Athlete'],\n",
        "]\n",
        "\n",
        "features = np.array([row[:-1] for row in data])\n",
        "labels_raw = [row[-1] for row in data]\n",
        "\n",
        "# Step 2: Encode and normalize\n",
        "label_encoder = LabelEncoder()\n",
        "labels = label_encoder.fit_transform(labels_raw)  # 'Athlete'->1, 'Non-athlete'->0\n",
        "\n",
        "scaler = StandardScaler()\n",
        "features_scaled = scaler.fit_transform(features)\n",
        "\n",
        "# Step 3: Build ANN\n",
        "model = Sequential([\n",
        "    Dense(8, activation='relu', input_shape=(3,)),\n",
        "    Dense(4, activation='relu'),\n",
        "    Dense(1, activation='sigmoid')  # binary classification\n",
        "])\n",
        "\n",
        "# Step 4: Compile and train\n",
        "model.compile(optimizer='adam', loss='binary_crossentropy', metrics=['accuracy'])\n",
        "model.fit(features_scaled, labels, epochs=100, verbose=0)\n",
        "\n",
        "# Step 5: Predict new input\n",
        "query = np.array([[172, 72, 24]])  # Height, Weight, Age\n",
        "query_scaled = scaler.transform(query)\n",
        "\n",
        "pred_prob = model.predict(query_scaled)[0][0]\n",
        "prediction = 'Athlete' if pred_prob >= 0.5 else 'Non-athlete'\n",
        "\n",
        "print(\"Predicted Label:\", prediction)\n"
      ]
    }
  ]
}